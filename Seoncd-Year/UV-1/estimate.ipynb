{
 "cells": [
  {
   "cell_type": "code",
   "execution_count": 7,
   "metadata": {},
   "outputs": [
    {
     "name": "stdout",
     "output_type": "stream",
     "text": [
      "[ 1.44294057e+02 -1.43956258e+02  1.00018611e+00 -6.62169895e-05]\n",
      "Estimated absorbance at concentration 8: 3.1491594124161617\n"
     ]
    }
   ],
   "source": [
    "import numpy as np\n",
    "from scipy.optimize import curve_fit\n",
    "\n",
    "# Given data\n",
    "absorbance_546 = [0.267, 0.409, 0.556, 0.722, 0.863]\n",
    "concentration = [0.8, 1.2, 1.6, 2.0, 2.4]\n",
    "\n",
    "# Define the polynomial function\n",
    "def polynomial_function(x,a,b,c,d):\n",
    "    return a*x**c + b*x + d\n",
    "\n",
    "# Fit the polynomial function to the dataf\n",
    "coeffs, _ = curve_fit(polynomial_function, concentration, absorbance_546)\n",
    "print(coeffs)\n",
    "\n",
    "# Estimate absorbance at concentration 8 using the polynomial function\n",
    "concentration_8 = 8\n",
    "estimated_absorbance = polynomial_function(concentration_8, *coeffs)\n",
    "\n",
    "print(\"Estimated absorbance at concentration 8:\", estimated_absorbance)\n"
   ]
  }
 ],
 "metadata": {
  "kernelspec": {
   "display_name": "Python 3",
   "language": "python",
   "name": "python3"
  },
  "language_info": {
   "codemirror_mode": {
    "name": "ipython",
    "version": 3
   },
   "file_extension": ".py",
   "mimetype": "text/x-python",
   "name": "python",
   "nbconvert_exporter": "python",
   "pygments_lexer": "ipython3",
   "version": "3.10.10"
  },
  "orig_nbformat": 4
 },
 "nbformat": 4,
 "nbformat_minor": 2
}
